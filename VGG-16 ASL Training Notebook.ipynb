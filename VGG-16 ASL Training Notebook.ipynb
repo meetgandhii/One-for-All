{
 "cells": [
  {
   "cell_type": "markdown",
   "id": "e5220586",
   "metadata": {},
   "source": [
    "# Import Statements"
   ]
  },
  {
   "cell_type": "code",
   "execution_count": 13,
   "id": "b5d1039b",
   "metadata": {},
   "outputs": [],
   "source": [
    "import numpy as np\n",
    "import tensorflow as tf\n",
    "import keras\n",
    "from tensorflow.keras.optimizers import SGD\n",
    "from tensorflow.keras.optimizers import Adam\n",
    "from tensorflow.keras.applications import VGG16 \n",
    "from tensorflow.keras.preprocessing import image\n",
    "from tensorflow.keras.models import model_from_json\n",
    "from tensorflow.keras import models,layers,optimizers\n",
    "from tensorflow.keras.callbacks import ModelCheckpoint\n",
    "from tensorflow.keras.applications.vgg16 import preprocess_input\n",
    "from tensorflow.keras.layers import  AveragePooling2D, ZeroPadding2D, Dropout, Flatten, concatenate\n",
    "from tensorflow.keras.layers import Input, Dense, Reshape, Activation"
   ]
  },
  {
   "cell_type": "markdown",
   "id": "d4d4b841",
   "metadata": {},
   "source": [
    "# VGG Initialization"
   ]
  },
  {
   "cell_type": "code",
   "execution_count": 8,
   "id": "e8206f00",
   "metadata": {},
   "outputs": [
    {
     "name": "stdout",
     "output_type": "stream",
     "text": [
      "Downloading data from https://storage.googleapis.com/tensorflow/keras-applications/vgg16/vgg16_weights_tf_dim_ordering_tf_kernels_notop.h5\n",
      "58892288/58889256 [==============================] - 2s 0us/step\n",
      "58900480/58889256 [==============================] - 2s 0us/step\n"
     ]
    }
   ],
   "source": [
    "image_size=224\n",
    "vgg_base = VGG16(weights='imagenet',include_top=False,input_shape=(image_size,image_size,3))"
   ]
  },
  {
   "cell_type": "markdown",
   "id": "a3d4abc3",
   "metadata": {},
   "source": [
    "# Model Initialization"
   ]
  },
  {
   "cell_type": "code",
   "execution_count": 9,
   "id": "7bc75a42",
   "metadata": {},
   "outputs": [],
   "source": [
    "model = models.Sequential()\n",
    "model.add(vgg_base)"
   ]
  },
  {
   "cell_type": "markdown",
   "id": "03913e0b",
   "metadata": {},
   "source": [
    "# Adding Layers"
   ]
  },
  {
   "cell_type": "code",
   "execution_count": 10,
   "id": "cc876777",
   "metadata": {},
   "outputs": [],
   "source": [
    "model.add(layers.Flatten())\n",
    "model.add(Dense(8192, activation='relu'))\n",
    "model.add(Dropout(0.8))\n",
    "model.add(Dense(4096, activation='relu'))\n",
    "model.add(Dropout(0.5))\n",
    "model.add(Dense(4, activation='softmax'))"
   ]
  },
  {
   "cell_type": "markdown",
   "id": "0f3a206f",
   "metadata": {},
   "source": [
    "# Model Summary"
   ]
  },
  {
   "cell_type": "code",
   "execution_count": 14,
   "id": "d1b0e776",
   "metadata": {},
   "outputs": [
    {
     "name": "stdout",
     "output_type": "stream",
     "text": [
      "WARNING:tensorflow:`period` argument is deprecated. Please use `save_freq` to specify the frequency in number of batches seen.\n"
     ]
    }
   ],
   "source": [
    "sgd = SGD(lr=0.001)\n",
    "model.compile(optimizer=sgd, loss='categorical_crossentropy', metrics=['accuracy'])\n",
    "checkpoint = tf.keras.callbacks.ModelCheckpoint(\"Checkpoint/weights.{epoch:02d}-{val_loss:.2f}.hdf5\", monitor='val_loss', verbose=0, save_best_only=False, save_weights_only=False, mode='auto', period=1)"
   ]
  },
  {
   "cell_type": "markdown",
   "id": "e2fcb36b",
   "metadata": {},
   "source": [
    "# Loading Data"
   ]
  },
  {
   "cell_type": "code",
   "execution_count": 15,
   "id": "4b7d14d1",
   "metadata": {},
   "outputs": [],
   "source": [
    "X_train=np.load(\"Numpy/train_set.npy\")\n",
    "Y_train=np.load(\"Numpy/train_classes.npy\")\n",
    "\n",
    "X_valid=np.load(\"Numpy/validation_set.npy\")\n",
    "Y_valid=np.load(\"Numpy/validation_classes.npy\")"
   ]
  },
  {
   "cell_type": "markdown",
   "id": "89ad3567",
   "metadata": {},
   "source": [
    "# Training The Model"
   ]
  },
  {
   "cell_type": "code",
   "execution_count": 19,
   "id": "f8beeee0",
   "metadata": {},
   "outputs": [],
   "source": [
    "X_train = X_train[0:10000]\n",
    "Y_train = Y_train[0:10000]"
   ]
  },
  {
   "cell_type": "code",
   "execution_count": 20,
   "id": "d17fd5aa",
   "metadata": {},
   "outputs": [
    {
     "ename": "MemoryError",
     "evalue": "Unable to allocate 24.4 GiB for an array with shape (21750, 224, 224, 3) and data type float64",
     "output_type": "error",
     "traceback": [
      "\u001b[1;31m---------------------------------------------------------------------------\u001b[0m",
      "\u001b[1;31mMemoryError\u001b[0m                               Traceback (most recent call last)",
      "Input \u001b[1;32mIn [20]\u001b[0m, in \u001b[0;36m<module>\u001b[1;34m\u001b[0m\n\u001b[1;32m----> 1\u001b[0m model\u001b[38;5;241m.\u001b[39mfit(X_train\u001b[38;5;241m/\u001b[39m\u001b[38;5;241m255.0\u001b[39m, Y_train, epochs\u001b[38;5;241m=\u001b[39m\u001b[38;5;241m12\u001b[39m, batch_size\u001b[38;5;241m=\u001b[39m\u001b[38;5;241m32\u001b[39m,validation_data\u001b[38;5;241m=\u001b[39m(\u001b[43mX_valid\u001b[49m\u001b[38;5;241;43m/\u001b[39;49m\u001b[38;5;241;43m255.0\u001b[39;49m,Y_valid), shuffle\u001b[38;5;241m=\u001b[39m\u001b[38;5;28;01mTrue\u001b[39;00m, callbacks\u001b[38;5;241m=\u001b[39m[checkpoint])\n",
      "\u001b[1;31mMemoryError\u001b[0m: Unable to allocate 24.4 GiB for an array with shape (21750, 224, 224, 3) and data type float64"
     ]
    }
   ],
   "source": [
    "model.fit(X_train/255.0, Y_train, epochs=12, batch_size=32,validation_data=(X_valid/255.0,Y_valid), shuffle=True, callbacks=[checkpoint])"
   ]
  },
  {
   "cell_type": "code",
   "execution_count": 23,
   "id": "0251975f",
   "metadata": {},
   "outputs": [
    {
     "name": "stdout",
     "output_type": "stream",
     "text": [
      "Saved model to disk\n"
     ]
    }
   ],
   "source": [
    "model_json = model.to_json()\n",
    "with open(\"Model/model.json\", \"w\") as json_file:\n",
    "    json_file.write(model_json)\n",
    "model.save_weights(\"Model/model_weights.h5\")\n",
    "print(\"Saved model to disk\")"
   ]
  },
  {
   "cell_type": "code",
   "execution_count": 24,
   "id": "4a737ca1",
   "metadata": {},
   "outputs": [
    {
     "name": "stdout",
     "output_type": "stream",
     "text": [
      "Saved model to disk\n"
     ]
    }
   ],
   "source": [
    "model.save_weights(\"Model/model_weights.h5\")\n",
    "print(\"Saved model to disk\")"
   ]
  },
  {
   "cell_type": "code",
   "execution_count": null,
   "id": "5d9d2116",
   "metadata": {},
   "outputs": [],
   "source": []
  }
 ],
 "metadata": {
  "kernelspec": {
   "display_name": "Python 3 (ipykernel)",
   "language": "python",
   "name": "python3"
  },
  "language_info": {
   "codemirror_mode": {
    "name": "ipython",
    "version": 3
   },
   "file_extension": ".py",
   "mimetype": "text/x-python",
   "name": "python",
   "nbconvert_exporter": "python",
   "pygments_lexer": "ipython3",
   "version": "3.10.2"
  }
 },
 "nbformat": 4,
 "nbformat_minor": 5
}
