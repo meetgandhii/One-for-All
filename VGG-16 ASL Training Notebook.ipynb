{
 "cells": [
  {
   "cell_type": "markdown",
   "id": "e5220586",
   "metadata": {},
   "source": [
    "# Import Statements"
   ]
  },
  {
   "cell_type": "code",
   "execution_count": null,
   "id": "b5d1039b",
   "metadata": {},
   "outputs": [],
   "source": [
    "import numpy as np\n",
    "import tensorflow as tf\n",
    "import keras\n",
    "from tensorflow.keras.optimizers import SGD\n",
    "from tensorflow.keras.optimizers import Adam\n",
    "from tensorflow.keras.applications import VGG16 \n",
    "from tensorflow.keras.preprocessing import image\n",
    "from tensorflow.keras.models import model_from_json\n",
    "from tensorflow.keras import models,layers,optimizers\n",
    "from tensorflow.keras.callbacks import ModelCheckpoint\n",
    "from tensorflow.keras.applications.vgg16 import preprocess_input\n",
    "from tensorflow.keras.layers import  AveragePooling2D, ZeroPadding2D, Dropout, Flatten, concatenate\n",
    "from tensorflow.keras.layers import Input, Dense, Reshape, Activation\n",
    "import matplotlib\n",
    "import matplotlib.pyplot as plt\n",
    "import plotly\n",
    "import plotly.graph_objects as go\n",
    "import plotly.express as px\n",
    "from plotly.subplots import make_subplots\n",
    "from sklearn.manifold import TSNE"
   ]
  },
  {
   "cell_type": "markdown",
   "id": "d4d4b841",
   "metadata": {},
   "source": [
    "# VGG Initialization"
   ]
  },
  {
   "cell_type": "code",
   "execution_count": null,
   "id": "e8206f00",
   "metadata": {},
   "outputs": [],
   "source": [
    "image_size=224\n",
    "vgg_base = VGG16(weights='imagenet',include_top=False,input_shape=(image_size,image_size,3))"
   ]
  },
  {
   "cell_type": "markdown",
   "id": "a3d4abc3",
   "metadata": {},
   "source": [
    "# Model Initialization"
   ]
  },
  {
   "cell_type": "code",
   "execution_count": null,
   "id": "7bc75a42",
   "metadata": {},
   "outputs": [],
   "source": [
    "model = models.Sequential()\n",
    "model.add(vgg_base)"
   ]
  },
  {
   "cell_type": "markdown",
   "id": "03913e0b",
   "metadata": {},
   "source": [
    "# Adding Layers"
   ]
  },
  {
   "cell_type": "code",
   "execution_count": null,
   "id": "cc876777",
   "metadata": {},
   "outputs": [],
   "source": [
    "model.add(layers.Flatten())\n",
    "model.add(Dense(8192, activation='relu'))\n",
    "model.add(Dropout(0.8))\n",
    "model.add(Dense(4096, activation='relu'))\n",
    "model.add(Dropout(0.5))\n",
    "model.add(Dense(29, activation='softmax'))"
   ]
  },
  {
   "cell_type": "markdown",
   "id": "0f3a206f",
   "metadata": {},
   "source": [
    "# Model Summary"
   ]
  },
  {
   "cell_type": "code",
   "execution_count": null,
   "id": "fd93be1c",
   "metadata": {},
   "outputs": [],
   "source": [
    "from keras.utils.vis_utils import plot_model\n",
    "plot_model(model, to_file='model_plot.png', show_shapes=True, show_layer_names=True)"
   ]
  },
  {
   "cell_type": "code",
   "execution_count": null,
   "id": "6f698c53",
   "metadata": {},
   "outputs": [],
   "source": [
    "display(model.summary())\n",
    "display(tf.keras.utils.plot_model(model, to_file='vgg16.png', show_shapes=True))"
   ]
  },
  {
   "cell_type": "code",
   "execution_count": null,
   "id": "d1b0e776",
   "metadata": {},
   "outputs": [],
   "source": [
    "sgd = SGD(lr=0.001)\n",
    "model.compile(optimizer=sgd, loss='categorical_crossentropy', metrics=['accuracy'])\n",
    "checkpoint = tf.keras.callbacks.ModelCheckpoint(\"Checkpoint/weights.{epoch:02d}-{val_loss:.2f}.hdf5\", monitor='val_loss', verbose=0, save_best_only=False, save_weights_only=False, mode='auto', period=1)"
   ]
  },
  {
   "cell_type": "markdown",
   "id": "e2fcb36b",
   "metadata": {},
   "source": [
    "# Loading Data"
   ]
  },
  {
   "cell_type": "code",
   "execution_count": null,
   "id": "4b7d14d1",
   "metadata": {},
   "outputs": [],
   "source": [
    "X_train=np.load(\"Data/train_set.npy\")\n",
    "Y_train=np.load(\"Data/train_classes.npy\")\n",
    "\n",
    "X_valid=np.load(\"Data/validation_set.npy\")\n",
    "Y_valid=np.load(\"Data/validation_classes.npy\")"
   ]
  },
  {
   "cell_type": "markdown",
   "id": "89ad3567",
   "metadata": {},
   "source": [
    "# Training The Model"
   ]
  },
  {
   "cell_type": "code",
   "execution_count": null,
   "id": "d17fd5aa",
   "metadata": {},
   "outputs": [],
   "source": [
    "model.fit(X_train/255.0, Y_train, epochs=10, batch_size=32, shuffle=True )"
   ]
  },
  {
   "cell_type": "code",
   "execution_count": null,
   "id": "0251975f",
   "metadata": {},
   "outputs": [],
   "source": [
    "model_json = model.to_json()\n",
    "with open(\"Model/model.json\", \"w\") as json_file:\n",
    "    json_file.write(model_json)\n",
    "model.save_weights(\"Model/model_weights.h5\")\n",
    "print(\"Saved model to disk\")"
   ]
  },
  {
   "cell_type": "code",
   "execution_count": null,
   "id": "4a737ca1",
   "metadata": {},
   "outputs": [],
   "source": [
    "model.save_weights(\"Model/model_weights.h5\")\n",
    "print(\"Saved model to disk\")"
   ]
  }
 ],
 "metadata": {
  "kernelspec": {
   "display_name": "Python 3 (ipykernel)",
   "language": "python",
   "name": "python3"
  },
  "language_info": {
   "codemirror_mode": {
    "name": "ipython",
    "version": 3
   },
   "file_extension": ".py",
   "mimetype": "text/x-python",
   "name": "python",
   "nbconvert_exporter": "python",
   "pygments_lexer": "ipython3",
   "version": "3.10.2"
  }
 },
 "nbformat": 4,
 "nbformat_minor": 5
}
