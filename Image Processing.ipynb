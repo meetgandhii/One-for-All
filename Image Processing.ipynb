{
 "cells": [
  {
   "cell_type": "code",
   "execution_count": null,
   "id": "07c3bcfb",
   "metadata": {},
   "outputs": [],
   "source": [
    "import cv2\n",
    "import numpy as np"
   ]
  },
  {
   "cell_type": "code",
   "execution_count": null,
   "id": "c86974fb",
   "metadata": {},
   "outputs": [],
   "source": [
    "img = cv2.imread(\"L100.jpg\")"
   ]
  },
  {
   "cell_type": "code",
   "execution_count": null,
   "id": "1c1e520c",
   "metadata": {},
   "outputs": [],
   "source": [
    "# cv2.imshow(\"image\", img)\n",
    "# cv2.waitKey(0)\n",
    "# cv2.destroyAllWindows()"
   ]
  },
  {
   "cell_type": "code",
   "execution_count": null,
   "id": "56a3609f",
   "metadata": {},
   "outputs": [],
   "source": [
    "analysisframe = img\n",
    "showframe = analysisframe"
   ]
  },
  {
   "cell_type": "code",
   "execution_count": null,
   "id": "f855568c",
   "metadata": {},
   "outputs": [],
   "source": [
    "framergb = cv2.cvtColor(img, cv2.COLOR_BGR2RGB)"
   ]
  },
  {
   "cell_type": "code",
   "execution_count": null,
   "id": "c1b24dd6",
   "metadata": {},
   "outputs": [],
   "source": [
    "framergb = cv2.resize(framergb, (224, 224),interpolation = cv2.INTER_AREA)"
   ]
  },
  {
   "cell_type": "code",
   "execution_count": null,
   "id": "ffda4391",
   "metadata": {},
   "outputs": [],
   "source": [
    "framergb.shape"
   ]
  },
  {
   "cell_type": "code",
   "execution_count": null,
   "id": "7c3d43e1",
   "metadata": {},
   "outputs": [],
   "source": [
    "cv2.imshow(\"image\", framergb)\n",
    "cv2.waitKey(0)\n",
    "cv2.destroyAllWindows()"
   ]
  },
  {
   "cell_type": "code",
   "execution_count": null,
   "id": "a8cccb0d",
   "metadata": {},
   "outputs": [],
   "source": [
    "im5 = np.expand_dims(framergb, axis=0)"
   ]
  },
  {
   "cell_type": "code",
   "execution_count": null,
   "id": "5fcc6715",
   "metadata": {},
   "outputs": [],
   "source": [
    "cv2.imshow(\"image\", im5)\n",
    "cv2.waitKey(0)\n",
    "cv2.destroyAllWindows()"
   ]
  },
  {
   "cell_type": "code",
   "execution_count": null,
   "id": "6a1b19db",
   "metadata": {},
   "outputs": [],
   "source": [
    "image_grayscale = cv2.cvtColor(framergb, cv2.COLOR_BGR2GRAY)"
   ]
  },
  {
   "cell_type": "code",
   "execution_count": null,
   "id": "cc121cb3",
   "metadata": {},
   "outputs": [],
   "source": [
    "cv2.imshow(\"image\", image_grayscale)\n",
    "cv2.waitKey(0)\n",
    "cv2.destroyAllWindows()"
   ]
  },
  {
   "cell_type": "code",
   "execution_count": null,
   "id": "8653089a",
   "metadata": {},
   "outputs": [],
   "source": [
    "image_grayscale_blurred = cv2.GaussianBlur(image_grayscale, (15,15), 0)\n",
    "im3 = cv2.resize(image_grayscale_blurred, (28,28), interpolation = cv2.INTER_AREA)\n",
    "im4 = np.resize(im3, (28, 28, 1))\n",
    "im5 = np.expand_dims(im4, axis=0)"
   ]
  },
  {
   "cell_type": "code",
   "execution_count": null,
   "id": "9f3645ce",
   "metadata": {},
   "outputs": [],
   "source": [
    "cv2.imshow(\"image\", im4)\n",
    "cv2.waitKey(0)\n",
    "cv2.destroyAllWindows()"
   ]
  },
  {
   "cell_type": "code",
   "execution_count": null,
   "id": "d2a7c88f",
   "metadata": {},
   "outputs": [],
   "source": []
  }
 ],
 "metadata": {
  "kernelspec": {
   "display_name": "Python 3 (ipykernel)",
   "language": "python",
   "name": "python3"
  },
  "language_info": {
   "codemirror_mode": {
    "name": "ipython",
    "version": 3
   },
   "file_extension": ".py",
   "mimetype": "text/x-python",
   "name": "python",
   "nbconvert_exporter": "python",
   "pygments_lexer": "ipython3",
   "version": "3.10.2"
  }
 },
 "nbformat": 4,
 "nbformat_minor": 5
}
