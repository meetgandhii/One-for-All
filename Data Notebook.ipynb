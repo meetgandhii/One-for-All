{
 "cells": [
  {
   "cell_type": "markdown",
   "id": "aa9c1bda",
   "metadata": {},
   "source": [
    "# Import Statements"
   ]
  },
  {
   "cell_type": "code",
   "execution_count": 11,
   "id": "5caa32d3",
   "metadata": {},
   "outputs": [],
   "source": [
    "import warnings\n",
    "warnings.filterwarnings(\"ignore\", category=DeprecationWarning)\n",
    "\n",
    "import os\n",
    "import cv2\n",
    "import random\n",
    "import numpy as np\n",
    "from random import shuffle\n",
    "from keras.utils import np_utils"
   ]
  },
  {
   "cell_type": "markdown",
   "id": "9eff6a6b",
   "metadata": {},
   "source": [
    "# Initializing The Dictionary"
   ]
  },
  {
   "cell_type": "code",
   "execution_count": 18,
   "id": "a11d3173",
   "metadata": {},
   "outputs": [],
   "source": [
    "class_dic = {\"A\":0,\"B\":1,\"C\":2,\"D\":3,\"E\":4,\"F\":5,\"G\":6,\"H\":7,\"I\":8,\"J\":9,\"K\":10,\"L\":11,\"M\":12,\"N\":13,\"O\":14,\"P\":15,\"Q\":16,\"R\":17,\"S\":18,\"T\":19,\"U\":20,\"V\":21,\"W\":22,\"X\":23,\"Y\":24,\"Z\":25,\"d\":26,\"n\":27,\"s\":28}"
   ]
  },
  {
   "cell_type": "markdown",
   "id": "af6bc599",
   "metadata": {},
   "source": [
    "# Initilializing Path & Variables"
   ]
  },
  {
   "cell_type": "code",
   "execution_count": 19,
   "id": "24b9662a",
   "metadata": {},
   "outputs": [],
   "source": [
    "image_list = []\n",
    "image_class = []\n",
    "path = \"C:/Users/HP/ASL_Train Data/all_data_train\"\n",
    "data_folder_path = \"C:/Users/HP/ASL_Train Data/all_data_train\""
   ]
  },
  {
   "cell_type": "markdown",
   "id": "bbd1a8f4",
   "metadata": {},
   "source": [
    "# Loading & Shuffling Data"
   ]
  },
  {
   "cell_type": "code",
   "execution_count": 20,
   "id": "1caa3233",
   "metadata": {},
   "outputs": [
    {
     "name": "stdout",
     "output_type": "stream",
     "text": [
      "Shuffled the Dataset!\n"
     ]
    }
   ],
   "source": [
    "files = os.listdir(data_folder_path)\n",
    "\n",
    "for i in range(10):\n",
    "    shuffle(files)\n",
    "\n",
    "print(\"Shuffled the Dataset!\")\n",
    "\n",
    "class_count = {\"A\":0,\"B\":0,\"C\":0,\"D\":0,\"E\":0,\"F\":0,\"G\":0,\"H\":0,\"I\":0,\"J\":0,\"K\":0,\"L\":0,\"M\":0,\"N\":0,\"O\":0,\"P\":0,\"Q\":0,\"R\":0,\"S\":0,\"T\":0,\"U\":0,\"V\":0,\"W\":0,\"X\":0,\"Y\":0,\"Z\":0,\"d\":0,\"n\":0,\"s\":0}"
   ]
  },
  {
   "cell_type": "markdown",
   "id": "4d6bea25",
   "metadata": {},
   "source": [
    "# Initializing The Lists"
   ]
  },
  {
   "cell_type": "code",
   "execution_count": 21,
   "id": "77b740e4",
   "metadata": {},
   "outputs": [],
   "source": [
    "X = []\n",
    "Y = []\n",
    "X_val = []\n",
    "Y_val = []\n",
    "X_test = []\n",
    "Y_test = []\n",
    "unique_list=[]"
   ]
  },
  {
   "cell_type": "markdown",
   "id": "76e2ba58",
   "metadata": {},
   "source": [
    "# Train, Val, Test Data Split"
   ]
  },
  {
   "cell_type": "code",
   "execution_count": 22,
   "id": "19002dbb",
   "metadata": {},
   "outputs": [],
   "source": [
    "for file_name in files:\n",
    "    label = file_name[0]\n",
    "    if label not in unique_list:\n",
    "#         print(label)\n",
    "        unique_list.append(label)\n",
    "    path = data_folder_path+'/'+file_name\n",
    "    image = cv2.imread(path)\n",
    "    resized_image = cv2.resize(image,(224,224))\n",
    "    if class_count[label]<2000:\n",
    "        class_count[label]+=1\n",
    "        X.append(resized_image)\n",
    "        Y.append(class_dic[label])\n",
    "    elif class_count[label]>=2000 and class_count[label]<2750:\n",
    "        class_count[label]+=1\n",
    "        X_val.append(resized_image)\n",
    "        Y_val.append(class_dic[label])\n",
    "    else:\n",
    "        X_test.append(resized_image)\n",
    "        Y_test.append(class_dic[label])"
   ]
  },
  {
   "cell_type": "markdown",
   "id": "d194c39a",
   "metadata": {},
   "source": [
    "# Cross Checking The Data"
   ]
  },
  {
   "cell_type": "code",
   "execution_count": 24,
   "id": "3268ee30",
   "metadata": {},
   "outputs": [
    {
     "name": "stdout",
     "output_type": "stream",
     "text": [
      "29\n"
     ]
    }
   ],
   "source": [
    "print(len(unique_list))"
   ]
  },
  {
   "cell_type": "code",
   "execution_count": 25,
   "id": "011e608f",
   "metadata": {},
   "outputs": [],
   "source": [
    "Y = np_utils.to_categorical(Y)\n",
    "Y_val = np_utils.to_categorical(Y_val)\n",
    "Y_test = np_utils.to_categorical(Y_test)"
   ]
  },
  {
   "cell_type": "code",
   "execution_count": 26,
   "id": "5aa02dc0",
   "metadata": {},
   "outputs": [
    {
     "name": "stdout",
     "output_type": "stream",
     "text": [
      "58000\n",
      "21750\n",
      "7250\n",
      "58000\n",
      "21750\n",
      "7250\n"
     ]
    }
   ],
   "source": [
    "print(len(Y))\n",
    "print(len(Y_val))\n",
    "print(len(Y_test))\n",
    "\n",
    "print(len(X))\n",
    "print(len(X_val))\n",
    "print(len(X_test))"
   ]
  },
  {
   "cell_type": "markdown",
   "id": "542d36b0",
   "metadata": {},
   "source": [
    "# Data Path For Saving"
   ]
  },
  {
   "cell_type": "code",
   "execution_count": 27,
   "id": "c5ef818d",
   "metadata": {},
   "outputs": [],
   "source": [
    "npy_data_path  = \"Numpy\""
   ]
  },
  {
   "cell_type": "code",
   "execution_count": 30,
   "id": "2c51803d",
   "metadata": {},
   "outputs": [],
   "source": [
    "np.save(npy_data_path+'/train_set.npy',X)\n",
    "np.save(npy_data_path+'/train_classes.npy',Y)\n",
    "\n",
    "np.save(npy_data_path+'/validation_set.npy',X_val)\n",
    "np.save(npy_data_path+'/validation_classes.npy',Y_val)\n",
    "\n",
    "np.save(npy_data_path+'/test_set.npy',X_test)\n",
    "np.save(npy_data_path+'/test_classes.npy',Y_test)"
   ]
  },
  {
   "cell_type": "code",
   "execution_count": null,
   "id": "242adec6",
   "metadata": {},
   "outputs": [],
   "source": []
  }
 ],
 "metadata": {
  "kernelspec": {
   "display_name": "Python 3 (ipykernel)",
   "language": "python",
   "name": "python3"
  },
  "language_info": {
   "codemirror_mode": {
    "name": "ipython",
    "version": 3
   },
   "file_extension": ".py",
   "mimetype": "text/x-python",
   "name": "python",
   "nbconvert_exporter": "python",
   "pygments_lexer": "ipython3",
   "version": "3.10.2"
  }
 },
 "nbformat": 4,
 "nbformat_minor": 5
}
